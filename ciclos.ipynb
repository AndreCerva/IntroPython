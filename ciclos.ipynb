{
 "cells": [
  {
   "cell_type": "markdown",
   "metadata": {},
   "source": [
    "##### 1.-Imprimir la tabla 97 del 10 al 20"
   ]
  },
  {
   "cell_type": "code",
   "execution_count": 6,
   "metadata": {},
   "outputs": [
    {
     "name": "stdout",
     "output_type": "stream",
     "text": [
      "10) 97 * 10= 970\n",
      "11) 97 * 11= 1067\n",
      "12) 97 * 12= 1164\n",
      "13) 97 * 13= 1261\n",
      "14) 97 * 14= 1358\n",
      "15) 97 * 15= 1455\n",
      "16) 97 * 16= 1552\n",
      "17) 97 * 17= 1649\n",
      "18) 97 * 18= 1746\n",
      "19) 97 * 19= 1843\n",
      "20) 97 * 20= 1940\n"
     ]
    }
   ],
   "source": [
    "for i,c in enumerate(range(10,21)):\n",
    "    print(f\"{c}) 97 * {c}= {97*(c)}\")"
   ]
  },
  {
   "cell_type": "markdown",
   "metadata": {},
   "source": [
    "##### 2.-Tienes un cachorro que nació en 2022, tomando en cuenta que un año humano es igual a 7 años perrunos, estructura un ciclo que vaya del 2022 al 2037 e imprima : tu edad, la edad que tendrá el cachorro y el año"
   ]
  },
  {
   "cell_type": "code",
   "execution_count": 10,
   "metadata": {},
   "outputs": [
    {
     "name": "stdout",
     "output_type": "stream",
     "text": [
      "Mi edad: 23, la edad de mi cachorro: 0 y el año es: 2022\n",
      "Mi edad: 24, la edad de mi cachorro: 7 y el año es: 2023\n",
      "Mi edad: 25, la edad de mi cachorro: 14 y el año es: 2024\n",
      "Mi edad: 26, la edad de mi cachorro: 21 y el año es: 2025\n",
      "Mi edad: 27, la edad de mi cachorro: 28 y el año es: 2026\n",
      "Mi edad: 28, la edad de mi cachorro: 35 y el año es: 2027\n",
      "Mi edad: 29, la edad de mi cachorro: 42 y el año es: 2028\n",
      "Mi edad: 30, la edad de mi cachorro: 49 y el año es: 2029\n",
      "Mi edad: 31, la edad de mi cachorro: 56 y el año es: 2030\n",
      "Mi edad: 32, la edad de mi cachorro: 63 y el año es: 2031\n",
      "Mi edad: 33, la edad de mi cachorro: 70 y el año es: 2032\n",
      "Mi edad: 34, la edad de mi cachorro: 77 y el año es: 2033\n",
      "Mi edad: 35, la edad de mi cachorro: 84 y el año es: 2034\n",
      "Mi edad: 36, la edad de mi cachorro: 91 y el año es: 2035\n",
      "Mi edad: 37, la edad de mi cachorro: 98 y el año es: 2036\n",
      "Mi edad: 38, la edad de mi cachorro: 105 y el año es: 2037\n"
     ]
    }
   ],
   "source": [
    "miedad=23\n",
    "edadcachorro=0\n",
    "for i,c in enumerate(range(2022,2038)):\n",
    "    print(f\"Mi edad: {miedad+i}, la edad de mi cachorro: {edadcachorro} y el año es: {c}\")\n",
    "    edadcachorro+=7"
   ]
  },
  {
   "cell_type": "markdown",
   "metadata": {},
   "source": [
    "##### 3.-Pedir  al usuario un número “n” y  un nombre, e \n",
    "1.   Elemento de la lista\n",
    "2.   Elemento de la lista\n",
    "\n",
    "imprimir en pantalla\n",
    "n veces su nombre\n"
   ]
  },
  {
   "cell_type": "code",
   "execution_count": 16,
   "metadata": {},
   "outputs": [
    {
     "name": "stdout",
     "output_type": "stream",
     "text": [
      "1) dmn\n",
      "2) dmn\n",
      "3) dmn\n",
      "4) dmn\n",
      "5) dmn\n"
     ]
    }
   ],
   "source": [
    "try:\n",
    "    numero=int(input(\"Introduzca un numero de veces por repetir: \"))\n",
    "except ValueError as e:\n",
    "    try:\n",
    "        print(\"Introduce numeros solamente. Segunda y ultima oportunidad\")\n",
    "        numero=int(input(\"Introduzca un numero de veces por repetir: \"))\n",
    "    except ValueError as e:\n",
    "        print(\"Era solo introducir un numero\")\n",
    "nombre=input(\"Introduzca un nombre: \")\n",
    "for i,c in enumerate(range(0,numero)):\n",
    "    print(f\"{c+1}) {nombre}\")"
   ]
  },
  {
   "cell_type": "markdown",
   "metadata": {},
   "source": [
    "##### 4.-Imprimir años bisiestos que hay del 2022 al 2050  *tomando en cuenta que el 2024 es año bisiesto"
   ]
  },
  {
   "cell_type": "code",
   "execution_count": 17,
   "metadata": {},
   "outputs": [
    {
     "name": "stdout",
     "output_type": "stream",
     "text": [
      "El año 2024 es bisiesto\n",
      "El año 2028 es bisiesto\n",
      "El año 2032 es bisiesto\n",
      "El año 2036 es bisiesto\n",
      "El año 2040 es bisiesto\n",
      "El año 2044 es bisiesto\n",
      "El año 2048 es bisiesto\n"
     ]
    }
   ],
   "source": [
    "for i,c in enumerate(range(2024,2050,4)):\n",
    "    print(f\"El año {c} es bisiesto\")"
   ]
  },
  {
   "cell_type": "markdown",
   "metadata": {},
   "source": [
    "##### 6.-Pide al usuario  una cantidad a invertir, una tasa de interés anual (ejemplo 0.15) y que vaya imprimiendo cómo cambia el capital de su dinero durante los próximos 10 años "
   ]
  },
  {
   "cell_type": "code",
   "execution_count": 20,
   "metadata": {},
   "outputs": [
    {
     "name": "stdout",
     "output_type": "stream",
     "text": [
      "La capital del dinero en el año 1 es: 975.24\n",
      "La capital del dinero en el año 2 es: 1677.41\n",
      "La capital del dinero en el año 3 es: 2885.15\n",
      "La capital del dinero en el año 4 es: 4962.46\n",
      "La capital del dinero en el año 5 es: 8535.43\n",
      "La capital del dinero en el año 6 es: 14680.94\n",
      "La capital del dinero en el año 7 es: 25251.21\n",
      "La capital del dinero en el año 8 es: 43432.08\n",
      "La capital del dinero en el año 9 es: 74703.18\n",
      "La capital del dinero en el año 10 es: 128489.47\n"
     ]
    }
   ],
   "source": [
    "invertir=float(input(\"Ingrese una cantidad a invertir: \"))\n",
    "interesAnual=float(input(\"Ingrese la tasa de interes anual- Ejemplo 0.15\"))\n",
    "for i,c in enumerate(range(1,11)):\n",
    "    invertir+=invertir*interesAnual\n",
    "    print(f\"La capital del dinero en el año {c} es: {round(invertir,2)}\")"
   ]
  },
  {
   "cell_type": "markdown",
   "metadata": {},
   "source": [
    "##### 7.-Un caracol está en la base de una pared que mide 10 metros de altura. El caracol tiene que llegar a lo alto de la pared y empieza a subir: cada día sube dos metros, pero por la noche se duerme, y resbala un metro. La pregunta es cuántos días tarda en llegar  a lo alto de la pared.\n",
    "<br><strong>\n",
    "Estructura un ciclo que indique e imprima cada día el avance del caracol hasta que llegue a lo alto de la pared\n",
    "</strong>"
   ]
  },
  {
   "cell_type": "code",
   "execution_count": 14,
   "metadata": {},
   "outputs": [
    {
     "name": "stdout",
     "output_type": "stream",
     "text": [
      "Al día 1 el caracol lleva una distancia de: 1\n",
      "Al día 2 el caracol lleva una distancia de: 2\n",
      "Al día 3 el caracol lleva una distancia de: 3\n",
      "Al día 4 el caracol lleva una distancia de: 4\n",
      "Al día 5 el caracol lleva una distancia de: 5\n",
      "Al día 6 el caracol lleva una distancia de: 6\n",
      "Al día 7 el caracol lleva una distancia de: 7\n",
      "Al día 8 el caracol lleva una distancia de: 8\n",
      "Al día 9 el caracol lleva una distancia de: 9\n",
      "Al día 10 el caracol lleva una distancia de: 10\n",
      "Total de dias que tardo el caracol en subir: 10\n"
     ]
    }
   ],
   "source": [
    "longitudPared=10#metros\n",
    "avancexdia=2#metros\n",
    "retrocesoxdia=1#metro\n",
    "totalavance=0#metros\n",
    "dias=0\n",
    "while totalavance<longitudPared:\n",
    "    dias+=1\n",
    "    totalavance+=avancexdia-retrocesoxdia\n",
    "    print(f\"Al día {dias} el caracol lleva una distancia de: {totalavance}\")\n",
    "print(f\"Total de dias que tardo el caracol en subir: {dias}\")"
   ]
  },
  {
   "cell_type": "markdown",
   "metadata": {},
   "source": [
    "##### 8.- Tenemos la contraseña \"devf16b\" , vamos a solicitar al usuario la contraseña mediante un bucle hasta que digite la contraseña correcta, le vamos a dar 5 oportunidades, en caso de digital la contraseña correcta le vamos a imprimir en pantalla, \"Bienvenido\""
   ]
  },
  {
   "cell_type": "code",
   "execution_count": 18,
   "metadata": {},
   "outputs": [
    {
     "name": "stdout",
     "output_type": "stream",
     "text": [
      "Contraseña incorrecta, intentalo de nuevo.\n",
      "Contraseña incorrecta, intentalo de nuevo.\n",
      "¡Bienvenidx!\n"
     ]
    }
   ],
   "source": [
    "contrasena=\"devf16b\"\n",
    "for i,c in enumerate(range(5)):\n",
    "    contra=input(f\"Ingrese la contraseña, tienes 5 oportunidades y esta es la {c+1} oportunidad \")\n",
    "    if contra == contrasena:\n",
    "        print(\"¡Bienvenidx!\")\n",
    "        break\n",
    "    else:\n",
    "        print(f\"Contraseña incorrecta, intentalo de nuevo.\")\n"
   ]
  },
  {
   "cell_type": "markdown",
   "metadata": {},
   "source": []
  }
 ],
 "metadata": {
  "interpreter": {
   "hash": "b89b5cfaba6639976dc87ff2fec6d58faec662063367e2c229c520fe71072417"
  },
  "kernelspec": {
   "display_name": "Python 3.10.0 64-bit",
   "language": "python",
   "name": "python3"
  },
  "language_info": {
   "codemirror_mode": {
    "name": "ipython",
    "version": 3
   },
   "file_extension": ".py",
   "mimetype": "text/x-python",
   "name": "python",
   "nbconvert_exporter": "python",
   "pygments_lexer": "ipython3",
   "version": "3.10.0"
  },
  "orig_nbformat": 4
 },
 "nbformat": 4,
 "nbformat_minor": 2
}
